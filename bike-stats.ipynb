{
 "metadata": {
  "language_info": {
   "codemirror_mode": {
    "name": "ipython",
    "version": 3
   },
   "file_extension": ".py",
   "mimetype": "text/x-python",
   "name": "python",
   "nbconvert_exporter": "python",
   "pygments_lexer": "ipython3",
   "version": "3.9.5"
  },
  "orig_nbformat": 2,
  "kernelspec": {
   "name": "python3",
   "display_name": "Python 3.9.5 64-bit ('.venv': venv)",
   "metadata": {
    "interpreter": {
     "hash": "86b66c0249222329c372db80afacbaee824a090a196caee2ef4b771ee1b0d63c"
    }
   }
  }
 },
 "nbformat": 4,
 "nbformat_minor": 2,
 "cells": [
  {
   "source": [
    "### Data Analysis with Panda\n",
    "- Bike Sales\n",
    "- Michael Hendricks\n",
    "- July 20"
   ],
   "cell_type": "markdown",
   "metadata": {}
  },
  {
   "cell_type": "code",
   "execution_count": 1,
   "metadata": {},
   "outputs": [],
   "source": [
    "import pandas as pd\n",
    "import numpy as np"
   ]
  },
  {
   "cell_type": "code",
   "execution_count": 5,
   "metadata": {},
   "outputs": [],
   "source": [
    "station_df = pd.read_csv('data/station.csv')\n",
    "trip_df = pd.read_csv('data/trip.csv', error_bad_lines=False)\n",
    "weather_df = pd.read_csv('data/weather.csv')"
   ]
  },
  {
   "cell_type": "code",
   "execution_count": 18,
   "metadata": {},
   "outputs": [
    {
     "output_type": "execute_result",
     "data": {
      "text/plain": [
       "   trip_id         starttime          stoptime    bikeid  tripduration  \\\n",
       "0      431  10/13/2014 10:31  10/13/2014 10:48  SEA00298       985.935   \n",
       "1      432  10/13/2014 10:32  10/13/2014 10:48  SEA00195       926.375   \n",
       "\n",
       "     from_station_name                                    to_station_name  \\\n",
       "0  2nd Ave & Spring St  Occidental Park / Occidental Ave S & S Washing...   \n",
       "1  2nd Ave & Spring St  Occidental Park / Occidental Ave S & S Washing...   \n",
       "\n",
       "  from_station_id to_station_id usertype gender  birthyear  \n",
       "0          CBD-06         PS-04   Member   Male     1960.0  \n",
       "1          CBD-06         PS-04   Member   Male     1970.0  "
      ],
      "text/html": "<div>\n<style scoped>\n    .dataframe tbody tr th:only-of-type {\n        vertical-align: middle;\n    }\n\n    .dataframe tbody tr th {\n        vertical-align: top;\n    }\n\n    .dataframe thead th {\n        text-align: right;\n    }\n</style>\n<table border=\"1\" class=\"dataframe\">\n  <thead>\n    <tr style=\"text-align: right;\">\n      <th></th>\n      <th>trip_id</th>\n      <th>starttime</th>\n      <th>stoptime</th>\n      <th>bikeid</th>\n      <th>tripduration</th>\n      <th>from_station_name</th>\n      <th>to_station_name</th>\n      <th>from_station_id</th>\n      <th>to_station_id</th>\n      <th>usertype</th>\n      <th>gender</th>\n      <th>birthyear</th>\n    </tr>\n  </thead>\n  <tbody>\n    <tr>\n      <th>0</th>\n      <td>431</td>\n      <td>10/13/2014 10:31</td>\n      <td>10/13/2014 10:48</td>\n      <td>SEA00298</td>\n      <td>985.935</td>\n      <td>2nd Ave &amp; Spring St</td>\n      <td>Occidental Park / Occidental Ave S &amp; S Washing...</td>\n      <td>CBD-06</td>\n      <td>PS-04</td>\n      <td>Member</td>\n      <td>Male</td>\n      <td>1960.0</td>\n    </tr>\n    <tr>\n      <th>1</th>\n      <td>432</td>\n      <td>10/13/2014 10:32</td>\n      <td>10/13/2014 10:48</td>\n      <td>SEA00195</td>\n      <td>926.375</td>\n      <td>2nd Ave &amp; Spring St</td>\n      <td>Occidental Park / Occidental Ave S &amp; S Washing...</td>\n      <td>CBD-06</td>\n      <td>PS-04</td>\n      <td>Member</td>\n      <td>Male</td>\n      <td>1970.0</td>\n    </tr>\n  </tbody>\n</table>\n</div>"
     },
     "metadata": {},
     "execution_count": 18
    }
   ],
   "source": [
    "trip_df.head(2)"
   ]
  },
  {
   "cell_type": "code",
   "execution_count": 20,
   "metadata": {},
   "outputs": [
    {
     "output_type": "execute_result",
     "data": {
      "text/plain": [
       "tripduration    1178.295675\n",
       "dtype: float64"
      ]
     },
     "metadata": {},
     "execution_count": 20
    }
   ],
   "source": [
    "trip_df[['tripduration']].mean()"
   ]
  },
  {
   "source": [
    "### 1. The average trip duration for a borrowed bicycle is 1178.295675"
   ],
   "cell_type": "markdown",
   "metadata": {}
  },
  {
   "cell_type": "code",
   "execution_count": 23,
   "metadata": {},
   "outputs": [
    {
     "output_type": "execute_result",
     "data": {
      "text/plain": [
       "0    1987.0\n",
       "dtype: float64"
      ]
     },
     "metadata": {},
     "execution_count": 23
    }
   ],
   "source": [
    "trip_df['birthyear'].mode()"
   ]
  },
  {
   "source": [
    "### 2. The most common birth year of a bicycle sharer is 1987, and since that's the year I was born, that makes them 33"
   ],
   "cell_type": "markdown",
   "metadata": {}
  },
  {
   "cell_type": "code",
   "execution_count": 25,
   "metadata": {},
   "outputs": [],
   "source": [
    "3. #weather_df"
   ]
  },
  {
   "cell_type": "code",
   "execution_count": 34,
   "metadata": {},
   "outputs": [
    {
     "output_type": "execute_result",
     "data": {
      "text/plain": [
       "  station_id                    name        lat        long install_date  \\\n",
       "0      BT-01      3rd Ave & Broad St  47.618418 -122.350964   10/13/2014   \n",
       "1      BT-03       2nd Ave & Vine St  47.615829 -122.348564   10/13/2014   \n",
       "2      BT-04  6th Ave & Blanchard St  47.616094 -122.341102   10/13/2014   \n",
       "3      BT-05  2nd Ave & Blanchard St  47.613110 -122.344208   10/13/2014   \n",
       "4     CBD-03      7th Ave & Union St  47.610731 -122.332447   10/13/2014   \n",
       "\n",
       "   install_dockcount modification_date  current_dockcount decommission_date  \n",
       "0                 18               NaN                 18               NaN  \n",
       "1                 16               NaN                 16               NaN  \n",
       "2                 16               NaN                 16               NaN  \n",
       "3                 14               NaN                 14               NaN  \n",
       "4                 20               NaN                 20               NaN  "
      ],
      "text/html": "<div>\n<style scoped>\n    .dataframe tbody tr th:only-of-type {\n        vertical-align: middle;\n    }\n\n    .dataframe tbody tr th {\n        vertical-align: top;\n    }\n\n    .dataframe thead th {\n        text-align: right;\n    }\n</style>\n<table border=\"1\" class=\"dataframe\">\n  <thead>\n    <tr style=\"text-align: right;\">\n      <th></th>\n      <th>station_id</th>\n      <th>name</th>\n      <th>lat</th>\n      <th>long</th>\n      <th>install_date</th>\n      <th>install_dockcount</th>\n      <th>modification_date</th>\n      <th>current_dockcount</th>\n      <th>decommission_date</th>\n    </tr>\n  </thead>\n  <tbody>\n    <tr>\n      <th>0</th>\n      <td>BT-01</td>\n      <td>3rd Ave &amp; Broad St</td>\n      <td>47.618418</td>\n      <td>-122.350964</td>\n      <td>10/13/2014</td>\n      <td>18</td>\n      <td>NaN</td>\n      <td>18</td>\n      <td>NaN</td>\n    </tr>\n    <tr>\n      <th>1</th>\n      <td>BT-03</td>\n      <td>2nd Ave &amp; Vine St</td>\n      <td>47.615829</td>\n      <td>-122.348564</td>\n      <td>10/13/2014</td>\n      <td>16</td>\n      <td>NaN</td>\n      <td>16</td>\n      <td>NaN</td>\n    </tr>\n    <tr>\n      <th>2</th>\n      <td>BT-04</td>\n      <td>6th Ave &amp; Blanchard St</td>\n      <td>47.616094</td>\n      <td>-122.341102</td>\n      <td>10/13/2014</td>\n      <td>16</td>\n      <td>NaN</td>\n      <td>16</td>\n      <td>NaN</td>\n    </tr>\n    <tr>\n      <th>3</th>\n      <td>BT-05</td>\n      <td>2nd Ave &amp; Blanchard St</td>\n      <td>47.613110</td>\n      <td>-122.344208</td>\n      <td>10/13/2014</td>\n      <td>14</td>\n      <td>NaN</td>\n      <td>14</td>\n      <td>NaN</td>\n    </tr>\n    <tr>\n      <th>4</th>\n      <td>CBD-03</td>\n      <td>7th Ave &amp; Union St</td>\n      <td>47.610731</td>\n      <td>-122.332447</td>\n      <td>10/13/2014</td>\n      <td>20</td>\n      <td>NaN</td>\n      <td>20</td>\n      <td>NaN</td>\n    </tr>\n  </tbody>\n</table>\n</div>"
     },
     "metadata": {},
     "execution_count": 34
    }
   ],
   "source": [
    "station_df.head()"
   ]
  },
  {
   "cell_type": "code",
   "execution_count": 32,
   "metadata": {},
   "outputs": [
    {
     "output_type": "execute_result",
     "data": {
      "text/plain": [
       "current_dockcount    16.517241\n",
       "dtype: float64"
      ]
     },
     "metadata": {},
     "execution_count": 32
    }
   ],
   "source": [
    "#station_df[['name','current_dockcount']]\n",
    "station_df[['current_dockcount']].mean()"
   ]
  },
  {
   "source": [
    "### 4. The average number of bikes at a given station is 16.517241"
   ],
   "cell_type": "markdown",
   "metadata": {}
  },
  {
   "cell_type": "code",
   "execution_count": 60,
   "metadata": {},
   "outputs": [],
   "source": [
    "# notnull() filters out NaN returns\n",
    "modified_stations = station_df[station_df['modification_date'].notnull()][['name','install_dockcount', 'modification_date', 'current_dockcount']].set_index('name')"
   ]
  },
  {
   "cell_type": "code",
   "execution_count": 88,
   "metadata": {},
   "outputs": [],
   "source": [
    "#modified_stations"
   ]
  },
  {
   "cell_type": "code",
   "execution_count": 76,
   "metadata": {},
   "outputs": [
    {
     "output_type": "execute_result",
     "data": {
      "text/plain": [
       "install_dockcount    17.529412\n",
       "dtype: float64"
      ]
     },
     "metadata": {},
     "execution_count": 76
    }
   ],
   "source": [
    "#modified_stations[['install_dockcount']]\n",
    "modified_stations[['install_dockcount']].mean()"
   ]
  },
  {
   "cell_type": "code",
   "execution_count": 77,
   "metadata": {},
   "outputs": [
    {
     "output_type": "execute_result",
     "data": {
      "text/plain": [
       "current_dockcount    13.764706\n",
       "dtype: float64"
      ]
     },
     "metadata": {},
     "execution_count": 77
    }
   ],
   "source": [
    "#modified_stations[['current_dockcount']]\n",
    "modified_stations[['current_dockcount']].mean()"
   ]
  },
  {
   "source": [
    "5. When a bike station is modified it is more likely that it's lose bikes because the average dock count of stations before modifications was higher than the average dock count of those same stations after modifications"
   ],
   "cell_type": "markdown",
   "metadata": {}
  },
  {
   "cell_type": "code",
   "execution_count": 87,
   "metadata": {},
   "outputs": [
    {
     "output_type": "execute_result",
     "data": {
      "text/plain": [
       "           Date  Max_Temperature_F  Mean_Temperature_F  Min_TemperatureF  \\\n",
       "0    10/13/2014                 71                62.0                54   \n",
       "1    10/14/2014                 63                59.0                55   \n",
       "2    10/15/2014                 62                58.0                54   \n",
       "3    10/16/2014                 71                61.0                52   \n",
       "4    10/17/2014                 64                60.0                57   \n",
       "..          ...                ...                 ...               ...   \n",
       "684   8/27/2016                 72                66.0                61   \n",
       "685   8/28/2016                 75                68.0                59   \n",
       "686   8/29/2016                 81                68.0                55   \n",
       "687   8/30/2016                 70                64.0                57   \n",
       "688   8/31/2016                 71                65.0                59   \n",
       "\n",
       "     Max_Dew_Point_F  MeanDew_Point_F  Min_Dewpoint_F  Max_Humidity  \\\n",
       "0                 55               51              46            87   \n",
       "1                 52               51              50            88   \n",
       "2                 53               50              46            87   \n",
       "3                 49               46              42            83   \n",
       "4                 55               51              41            87   \n",
       "..               ...              ...             ...           ...   \n",
       "684               57               54              50            81   \n",
       "685               54               52              50            80   \n",
       "686               55               53              50            89   \n",
       "687               55               53              52            83   \n",
       "688               61               56              52            90   \n",
       "\n",
       "     Mean_Humidity  Min_Humidity  ...  Mean_Sea_Level_Pressure_In  \\\n",
       "0               68            46  ...                       29.79   \n",
       "1               78            63  ...                       29.75   \n",
       "2               77            67  ...                       29.71   \n",
       "3               61            36  ...                       29.95   \n",
       "4               72            46  ...                       29.78   \n",
       "..             ...           ...  ...                         ...   \n",
       "684             65            46  ...                       29.88   \n",
       "685             65            44  ...                       30.06   \n",
       "686             65            39  ...                       30.02   \n",
       "687             69            53  ...                       30.01   \n",
       "688             77            63  ...                       29.97   \n",
       "\n",
       "     Min_Sea_Level_Pressure_In  Max_Visibility_Miles  Mean_Visibility_Miles  \\\n",
       "0                        29.65                    10                     10   \n",
       "1                        29.54                    10                      9   \n",
       "2                        29.51                    10                      9   \n",
       "3                        29.81                    10                     10   \n",
       "4                        29.73                    10                     10   \n",
       "..                         ...                   ...                    ...   \n",
       "684                      29.77                    10                     10   \n",
       "685                      30.01                    10                     10   \n",
       "686                      29.95                    10                     10   \n",
       "687                      29.97                    10                     10   \n",
       "688                      29.96                    10                     10   \n",
       "\n",
       "     Min_Visibility_Miles  Max_Wind_Speed_MPH  Mean_Wind_Speed_MPH  \\\n",
       "0                       4                  13                    4   \n",
       "1                       3                  10                    5   \n",
       "2                       3                  18                    7   \n",
       "3                      10                   9                    4   \n",
       "4                       6                   8                    3   \n",
       "..                    ...                 ...                  ...   \n",
       "684                    10                  16                    9   \n",
       "685                    10                  12                    9   \n",
       "686                     6                   9                    4   \n",
       "687                    10                  14                    9   \n",
       "688                     8                  14                    8   \n",
       "\n",
       "     Max_Gust_Speed_MPH Precipitation_In  Events  \n",
       "0                    21             0.00    Rain  \n",
       "1                    17             0.11    Rain  \n",
       "2                    25             0.45    Rain  \n",
       "3                     -             0.00    Rain  \n",
       "4                     -             0.14    Rain  \n",
       "..                  ...              ...     ...  \n",
       "684                 NaN             0.00     NaN  \n",
       "685                 NaN             0.00     NaN  \n",
       "686                 NaN             0.00     NaN  \n",
       "687                  18             0.00     NaN  \n",
       "688                 NaN             0.00    Rain  \n",
       "\n",
       "[689 rows x 21 columns]"
      ],
      "text/html": "<div>\n<style scoped>\n    .dataframe tbody tr th:only-of-type {\n        vertical-align: middle;\n    }\n\n    .dataframe tbody tr th {\n        vertical-align: top;\n    }\n\n    .dataframe thead th {\n        text-align: right;\n    }\n</style>\n<table border=\"1\" class=\"dataframe\">\n  <thead>\n    <tr style=\"text-align: right;\">\n      <th></th>\n      <th>Date</th>\n      <th>Max_Temperature_F</th>\n      <th>Mean_Temperature_F</th>\n      <th>Min_TemperatureF</th>\n      <th>Max_Dew_Point_F</th>\n      <th>MeanDew_Point_F</th>\n      <th>Min_Dewpoint_F</th>\n      <th>Max_Humidity</th>\n      <th>Mean_Humidity</th>\n      <th>Min_Humidity</th>\n      <th>...</th>\n      <th>Mean_Sea_Level_Pressure_In</th>\n      <th>Min_Sea_Level_Pressure_In</th>\n      <th>Max_Visibility_Miles</th>\n      <th>Mean_Visibility_Miles</th>\n      <th>Min_Visibility_Miles</th>\n      <th>Max_Wind_Speed_MPH</th>\n      <th>Mean_Wind_Speed_MPH</th>\n      <th>Max_Gust_Speed_MPH</th>\n      <th>Precipitation_In</th>\n      <th>Events</th>\n    </tr>\n  </thead>\n  <tbody>\n    <tr>\n      <th>0</th>\n      <td>10/13/2014</td>\n      <td>71</td>\n      <td>62.0</td>\n      <td>54</td>\n      <td>55</td>\n      <td>51</td>\n      <td>46</td>\n      <td>87</td>\n      <td>68</td>\n      <td>46</td>\n      <td>...</td>\n      <td>29.79</td>\n      <td>29.65</td>\n      <td>10</td>\n      <td>10</td>\n      <td>4</td>\n      <td>13</td>\n      <td>4</td>\n      <td>21</td>\n      <td>0.00</td>\n      <td>Rain</td>\n    </tr>\n    <tr>\n      <th>1</th>\n      <td>10/14/2014</td>\n      <td>63</td>\n      <td>59.0</td>\n      <td>55</td>\n      <td>52</td>\n      <td>51</td>\n      <td>50</td>\n      <td>88</td>\n      <td>78</td>\n      <td>63</td>\n      <td>...</td>\n      <td>29.75</td>\n      <td>29.54</td>\n      <td>10</td>\n      <td>9</td>\n      <td>3</td>\n      <td>10</td>\n      <td>5</td>\n      <td>17</td>\n      <td>0.11</td>\n      <td>Rain</td>\n    </tr>\n    <tr>\n      <th>2</th>\n      <td>10/15/2014</td>\n      <td>62</td>\n      <td>58.0</td>\n      <td>54</td>\n      <td>53</td>\n      <td>50</td>\n      <td>46</td>\n      <td>87</td>\n      <td>77</td>\n      <td>67</td>\n      <td>...</td>\n      <td>29.71</td>\n      <td>29.51</td>\n      <td>10</td>\n      <td>9</td>\n      <td>3</td>\n      <td>18</td>\n      <td>7</td>\n      <td>25</td>\n      <td>0.45</td>\n      <td>Rain</td>\n    </tr>\n    <tr>\n      <th>3</th>\n      <td>10/16/2014</td>\n      <td>71</td>\n      <td>61.0</td>\n      <td>52</td>\n      <td>49</td>\n      <td>46</td>\n      <td>42</td>\n      <td>83</td>\n      <td>61</td>\n      <td>36</td>\n      <td>...</td>\n      <td>29.95</td>\n      <td>29.81</td>\n      <td>10</td>\n      <td>10</td>\n      <td>10</td>\n      <td>9</td>\n      <td>4</td>\n      <td>-</td>\n      <td>0.00</td>\n      <td>Rain</td>\n    </tr>\n    <tr>\n      <th>4</th>\n      <td>10/17/2014</td>\n      <td>64</td>\n      <td>60.0</td>\n      <td>57</td>\n      <td>55</td>\n      <td>51</td>\n      <td>41</td>\n      <td>87</td>\n      <td>72</td>\n      <td>46</td>\n      <td>...</td>\n      <td>29.78</td>\n      <td>29.73</td>\n      <td>10</td>\n      <td>10</td>\n      <td>6</td>\n      <td>8</td>\n      <td>3</td>\n      <td>-</td>\n      <td>0.14</td>\n      <td>Rain</td>\n    </tr>\n    <tr>\n      <th>...</th>\n      <td>...</td>\n      <td>...</td>\n      <td>...</td>\n      <td>...</td>\n      <td>...</td>\n      <td>...</td>\n      <td>...</td>\n      <td>...</td>\n      <td>...</td>\n      <td>...</td>\n      <td>...</td>\n      <td>...</td>\n      <td>...</td>\n      <td>...</td>\n      <td>...</td>\n      <td>...</td>\n      <td>...</td>\n      <td>...</td>\n      <td>...</td>\n      <td>...</td>\n      <td>...</td>\n    </tr>\n    <tr>\n      <th>684</th>\n      <td>8/27/2016</td>\n      <td>72</td>\n      <td>66.0</td>\n      <td>61</td>\n      <td>57</td>\n      <td>54</td>\n      <td>50</td>\n      <td>81</td>\n      <td>65</td>\n      <td>46</td>\n      <td>...</td>\n      <td>29.88</td>\n      <td>29.77</td>\n      <td>10</td>\n      <td>10</td>\n      <td>10</td>\n      <td>16</td>\n      <td>9</td>\n      <td>NaN</td>\n      <td>0.00</td>\n      <td>NaN</td>\n    </tr>\n    <tr>\n      <th>685</th>\n      <td>8/28/2016</td>\n      <td>75</td>\n      <td>68.0</td>\n      <td>59</td>\n      <td>54</td>\n      <td>52</td>\n      <td>50</td>\n      <td>80</td>\n      <td>65</td>\n      <td>44</td>\n      <td>...</td>\n      <td>30.06</td>\n      <td>30.01</td>\n      <td>10</td>\n      <td>10</td>\n      <td>10</td>\n      <td>12</td>\n      <td>9</td>\n      <td>NaN</td>\n      <td>0.00</td>\n      <td>NaN</td>\n    </tr>\n    <tr>\n      <th>686</th>\n      <td>8/29/2016</td>\n      <td>81</td>\n      <td>68.0</td>\n      <td>55</td>\n      <td>55</td>\n      <td>53</td>\n      <td>50</td>\n      <td>89</td>\n      <td>65</td>\n      <td>39</td>\n      <td>...</td>\n      <td>30.02</td>\n      <td>29.95</td>\n      <td>10</td>\n      <td>10</td>\n      <td>6</td>\n      <td>9</td>\n      <td>4</td>\n      <td>NaN</td>\n      <td>0.00</td>\n      <td>NaN</td>\n    </tr>\n    <tr>\n      <th>687</th>\n      <td>8/30/2016</td>\n      <td>70</td>\n      <td>64.0</td>\n      <td>57</td>\n      <td>55</td>\n      <td>53</td>\n      <td>52</td>\n      <td>83</td>\n      <td>69</td>\n      <td>53</td>\n      <td>...</td>\n      <td>30.01</td>\n      <td>29.97</td>\n      <td>10</td>\n      <td>10</td>\n      <td>10</td>\n      <td>14</td>\n      <td>9</td>\n      <td>18</td>\n      <td>0.00</td>\n      <td>NaN</td>\n    </tr>\n    <tr>\n      <th>688</th>\n      <td>8/31/2016</td>\n      <td>71</td>\n      <td>65.0</td>\n      <td>59</td>\n      <td>61</td>\n      <td>56</td>\n      <td>52</td>\n      <td>90</td>\n      <td>77</td>\n      <td>63</td>\n      <td>...</td>\n      <td>29.97</td>\n      <td>29.96</td>\n      <td>10</td>\n      <td>10</td>\n      <td>8</td>\n      <td>14</td>\n      <td>8</td>\n      <td>NaN</td>\n      <td>0.00</td>\n      <td>Rain</td>\n    </tr>\n  </tbody>\n</table>\n<p>689 rows × 21 columns</p>\n</div>"
     },
     "metadata": {},
     "execution_count": 87
    }
   ],
   "source": [
    "weather_df"
   ]
  },
  {
   "cell_type": "code",
   "execution_count": 106,
   "metadata": {},
   "outputs": [],
   "source": [
    "days_with_prec = weather_df[weather_df['Precipitation_In'] > 0][['Date','Precipitation_In', 'Events']]"
   ]
  },
  {
   "cell_type": "code",
   "execution_count": 116,
   "metadata": {},
   "outputs": [],
   "source": [
    "days_with_prec['Date'] = pd.to_datetime(days_with_prec['Date'], format='%m/%d/%Y')"
   ]
  },
  {
   "cell_type": "code",
   "execution_count": 115,
   "metadata": {},
   "outputs": [
    {
     "output_type": "execute_result",
     "data": {
      "text/plain": [
       "          Date  Precipitation_In Events\n",
       "1   2014-10-14              0.11   Rain\n",
       "2   2014-10-15              0.45   Rain\n",
       "4   2014-10-17              0.14   Rain\n",
       "5   2014-10-18              0.31   Rain\n",
       "7   2014-10-20              0.44   Rain\n",
       "..         ...               ...    ...\n",
       "633 2016-07-07              0.06   Rain\n",
       "634 2016-07-08              0.14   Rain\n",
       "635 2016-07-09              0.07   Rain\n",
       "648 2016-07-22              0.21   Rain\n",
       "664 2016-08-07              0.03   Rain\n",
       "\n",
       "[294 rows x 3 columns]"
      ],
      "text/html": "<div>\n<style scoped>\n    .dataframe tbody tr th:only-of-type {\n        vertical-align: middle;\n    }\n\n    .dataframe tbody tr th {\n        vertical-align: top;\n    }\n\n    .dataframe thead th {\n        text-align: right;\n    }\n</style>\n<table border=\"1\" class=\"dataframe\">\n  <thead>\n    <tr style=\"text-align: right;\">\n      <th></th>\n      <th>Date</th>\n      <th>Precipitation_In</th>\n      <th>Events</th>\n    </tr>\n  </thead>\n  <tbody>\n    <tr>\n      <th>1</th>\n      <td>2014-10-14</td>\n      <td>0.11</td>\n      <td>Rain</td>\n    </tr>\n    <tr>\n      <th>2</th>\n      <td>2014-10-15</td>\n      <td>0.45</td>\n      <td>Rain</td>\n    </tr>\n    <tr>\n      <th>4</th>\n      <td>2014-10-17</td>\n      <td>0.14</td>\n      <td>Rain</td>\n    </tr>\n    <tr>\n      <th>5</th>\n      <td>2014-10-18</td>\n      <td>0.31</td>\n      <td>Rain</td>\n    </tr>\n    <tr>\n      <th>7</th>\n      <td>2014-10-20</td>\n      <td>0.44</td>\n      <td>Rain</td>\n    </tr>\n    <tr>\n      <th>...</th>\n      <td>...</td>\n      <td>...</td>\n      <td>...</td>\n    </tr>\n    <tr>\n      <th>633</th>\n      <td>2016-07-07</td>\n      <td>0.06</td>\n      <td>Rain</td>\n    </tr>\n    <tr>\n      <th>634</th>\n      <td>2016-07-08</td>\n      <td>0.14</td>\n      <td>Rain</td>\n    </tr>\n    <tr>\n      <th>635</th>\n      <td>2016-07-09</td>\n      <td>0.07</td>\n      <td>Rain</td>\n    </tr>\n    <tr>\n      <th>648</th>\n      <td>2016-07-22</td>\n      <td>0.21</td>\n      <td>Rain</td>\n    </tr>\n    <tr>\n      <th>664</th>\n      <td>2016-08-07</td>\n      <td>0.03</td>\n      <td>Rain</td>\n    </tr>\n  </tbody>\n</table>\n<p>294 rows × 3 columns</p>\n</div>"
     },
     "metadata": {},
     "execution_count": 115
    }
   ],
   "source": [
    "days_with_prec"
   ]
  },
  {
   "cell_type": "code",
   "execution_count": 118,
   "metadata": {},
   "outputs": [
    {
     "output_type": "execute_result",
     "data": {
      "text/plain": [
       "          Date  Precipitation_In             Events\n",
       "52  2014-12-04              0.05               Rain\n",
       "53  2014-12-05              0.09               Rain\n",
       "54  2014-12-06              0.25               Rain\n",
       "56  2014-12-08              0.45               Rain\n",
       "57  2014-12-09              0.42               Rain\n",
       "58  2014-12-10              0.50               Rain\n",
       "59  2014-12-11              0.33               Rain\n",
       "61  2014-12-13              0.01                NaN\n",
       "65  2014-12-17              0.16               Rain\n",
       "66  2014-12-18              0.60               Rain\n",
       "67  2014-12-19              0.13               Rain\n",
       "68  2014-12-20              0.60               Rain\n",
       "71  2014-12-23              0.61               Rain\n",
       "72  2014-12-24              0.12               Rain\n",
       "75  2014-12-27              0.12               Rain\n",
       "76  2014-12-28              0.06               Rain\n",
       "414 2015-12-01              0.39               Rain\n",
       "415 2015-12-02              0.06               Rain\n",
       "416 2015-12-03              0.52               Rain\n",
       "417 2015-12-04              0.12               Rain\n",
       "418 2015-12-05              0.81               Rain\n",
       "419 2015-12-06              0.55               Rain\n",
       "420 2015-12-07              1.06               Rain\n",
       "421 2015-12-08              1.51               Rain\n",
       "422 2015-12-09              0.56  Rain-Thunderstorm\n",
       "423 2015-12-10              0.63  Rain-Thunderstorm\n",
       "424 2015-12-11              0.01               Rain\n",
       "425 2015-12-12              0.56               Rain\n",
       "426 2015-12-13              0.11               Rain\n",
       "428 2015-12-15              0.02           Fog-Rain\n",
       "429 2015-12-16              0.13               Rain\n",
       "430 2015-12-17              0.82               Rain\n",
       "431 2015-12-18              0.54               Rain\n",
       "432 2015-12-19              0.01               Rain\n",
       "433 2015-12-20              0.19               Rain\n",
       "434 2015-12-21              0.83               Rain\n",
       "435 2015-12-22              0.12               Rain\n",
       "436 2015-12-23              0.09               Rain\n",
       "437 2015-12-24              0.11               Rain\n",
       "438 2015-12-25              0.05               Rain\n",
       "440 2015-12-27              0.32               Rain\n",
       "441 2015-12-28              0.03               Rain"
      ],
      "text/html": "<div>\n<style scoped>\n    .dataframe tbody tr th:only-of-type {\n        vertical-align: middle;\n    }\n\n    .dataframe tbody tr th {\n        vertical-align: top;\n    }\n\n    .dataframe thead th {\n        text-align: right;\n    }\n</style>\n<table border=\"1\" class=\"dataframe\">\n  <thead>\n    <tr style=\"text-align: right;\">\n      <th></th>\n      <th>Date</th>\n      <th>Precipitation_In</th>\n      <th>Events</th>\n    </tr>\n  </thead>\n  <tbody>\n    <tr>\n      <th>52</th>\n      <td>2014-12-04</td>\n      <td>0.05</td>\n      <td>Rain</td>\n    </tr>\n    <tr>\n      <th>53</th>\n      <td>2014-12-05</td>\n      <td>0.09</td>\n      <td>Rain</td>\n    </tr>\n    <tr>\n      <th>54</th>\n      <td>2014-12-06</td>\n      <td>0.25</td>\n      <td>Rain</td>\n    </tr>\n    <tr>\n      <th>56</th>\n      <td>2014-12-08</td>\n      <td>0.45</td>\n      <td>Rain</td>\n    </tr>\n    <tr>\n      <th>57</th>\n      <td>2014-12-09</td>\n      <td>0.42</td>\n      <td>Rain</td>\n    </tr>\n    <tr>\n      <th>58</th>\n      <td>2014-12-10</td>\n      <td>0.50</td>\n      <td>Rain</td>\n    </tr>\n    <tr>\n      <th>59</th>\n      <td>2014-12-11</td>\n      <td>0.33</td>\n      <td>Rain</td>\n    </tr>\n    <tr>\n      <th>61</th>\n      <td>2014-12-13</td>\n      <td>0.01</td>\n      <td>NaN</td>\n    </tr>\n    <tr>\n      <th>65</th>\n      <td>2014-12-17</td>\n      <td>0.16</td>\n      <td>Rain</td>\n    </tr>\n    <tr>\n      <th>66</th>\n      <td>2014-12-18</td>\n      <td>0.60</td>\n      <td>Rain</td>\n    </tr>\n    <tr>\n      <th>67</th>\n      <td>2014-12-19</td>\n      <td>0.13</td>\n      <td>Rain</td>\n    </tr>\n    <tr>\n      <th>68</th>\n      <td>2014-12-20</td>\n      <td>0.60</td>\n      <td>Rain</td>\n    </tr>\n    <tr>\n      <th>71</th>\n      <td>2014-12-23</td>\n      <td>0.61</td>\n      <td>Rain</td>\n    </tr>\n    <tr>\n      <th>72</th>\n      <td>2014-12-24</td>\n      <td>0.12</td>\n      <td>Rain</td>\n    </tr>\n    <tr>\n      <th>75</th>\n      <td>2014-12-27</td>\n      <td>0.12</td>\n      <td>Rain</td>\n    </tr>\n    <tr>\n      <th>76</th>\n      <td>2014-12-28</td>\n      <td>0.06</td>\n      <td>Rain</td>\n    </tr>\n    <tr>\n      <th>414</th>\n      <td>2015-12-01</td>\n      <td>0.39</td>\n      <td>Rain</td>\n    </tr>\n    <tr>\n      <th>415</th>\n      <td>2015-12-02</td>\n      <td>0.06</td>\n      <td>Rain</td>\n    </tr>\n    <tr>\n      <th>416</th>\n      <td>2015-12-03</td>\n      <td>0.52</td>\n      <td>Rain</td>\n    </tr>\n    <tr>\n      <th>417</th>\n      <td>2015-12-04</td>\n      <td>0.12</td>\n      <td>Rain</td>\n    </tr>\n    <tr>\n      <th>418</th>\n      <td>2015-12-05</td>\n      <td>0.81</td>\n      <td>Rain</td>\n    </tr>\n    <tr>\n      <th>419</th>\n      <td>2015-12-06</td>\n      <td>0.55</td>\n      <td>Rain</td>\n    </tr>\n    <tr>\n      <th>420</th>\n      <td>2015-12-07</td>\n      <td>1.06</td>\n      <td>Rain</td>\n    </tr>\n    <tr>\n      <th>421</th>\n      <td>2015-12-08</td>\n      <td>1.51</td>\n      <td>Rain</td>\n    </tr>\n    <tr>\n      <th>422</th>\n      <td>2015-12-09</td>\n      <td>0.56</td>\n      <td>Rain-Thunderstorm</td>\n    </tr>\n    <tr>\n      <th>423</th>\n      <td>2015-12-10</td>\n      <td>0.63</td>\n      <td>Rain-Thunderstorm</td>\n    </tr>\n    <tr>\n      <th>424</th>\n      <td>2015-12-11</td>\n      <td>0.01</td>\n      <td>Rain</td>\n    </tr>\n    <tr>\n      <th>425</th>\n      <td>2015-12-12</td>\n      <td>0.56</td>\n      <td>Rain</td>\n    </tr>\n    <tr>\n      <th>426</th>\n      <td>2015-12-13</td>\n      <td>0.11</td>\n      <td>Rain</td>\n    </tr>\n    <tr>\n      <th>428</th>\n      <td>2015-12-15</td>\n      <td>0.02</td>\n      <td>Fog-Rain</td>\n    </tr>\n    <tr>\n      <th>429</th>\n      <td>2015-12-16</td>\n      <td>0.13</td>\n      <td>Rain</td>\n    </tr>\n    <tr>\n      <th>430</th>\n      <td>2015-12-17</td>\n      <td>0.82</td>\n      <td>Rain</td>\n    </tr>\n    <tr>\n      <th>431</th>\n      <td>2015-12-18</td>\n      <td>0.54</td>\n      <td>Rain</td>\n    </tr>\n    <tr>\n      <th>432</th>\n      <td>2015-12-19</td>\n      <td>0.01</td>\n      <td>Rain</td>\n    </tr>\n    <tr>\n      <th>433</th>\n      <td>2015-12-20</td>\n      <td>0.19</td>\n      <td>Rain</td>\n    </tr>\n    <tr>\n      <th>434</th>\n      <td>2015-12-21</td>\n      <td>0.83</td>\n      <td>Rain</td>\n    </tr>\n    <tr>\n      <th>435</th>\n      <td>2015-12-22</td>\n      <td>0.12</td>\n      <td>Rain</td>\n    </tr>\n    <tr>\n      <th>436</th>\n      <td>2015-12-23</td>\n      <td>0.09</td>\n      <td>Rain</td>\n    </tr>\n    <tr>\n      <th>437</th>\n      <td>2015-12-24</td>\n      <td>0.11</td>\n      <td>Rain</td>\n    </tr>\n    <tr>\n      <th>438</th>\n      <td>2015-12-25</td>\n      <td>0.05</td>\n      <td>Rain</td>\n    </tr>\n    <tr>\n      <th>440</th>\n      <td>2015-12-27</td>\n      <td>0.32</td>\n      <td>Rain</td>\n    </tr>\n    <tr>\n      <th>441</th>\n      <td>2015-12-28</td>\n      <td>0.03</td>\n      <td>Rain</td>\n    </tr>\n  </tbody>\n</table>\n</div>"
     },
     "metadata": {},
     "execution_count": 118
    }
   ],
   "source": [
    "days_with_prec.loc[days_with_prec['Date'].dt.month == 12]"
   ]
  },
  {
   "cell_type": "code",
   "execution_count": null,
   "metadata": {},
   "outputs": [],
   "source": []
  }
 ]
}