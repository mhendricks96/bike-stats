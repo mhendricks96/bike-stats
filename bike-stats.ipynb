{
 "metadata": {
  "language_info": {
   "codemirror_mode": {
    "name": "ipython",
    "version": 3
   },
   "file_extension": ".py",
   "mimetype": "text/x-python",
   "name": "python",
   "nbconvert_exporter": "python",
   "pygments_lexer": "ipython3",
   "version": "3.9.5"
  },
  "orig_nbformat": 2,
  "kernelspec": {
   "name": "python3",
   "display_name": "Python 3.9.5 64-bit ('.venv': venv)",
   "metadata": {
    "interpreter": {
     "hash": "86b66c0249222329c372db80afacbaee824a090a196caee2ef4b771ee1b0d63c"
    }
   }
  }
 },
 "nbformat": 4,
 "nbformat_minor": 2,
 "cells": [
  {
   "source": [
    "### Data Analysis with Panda\n",
    "- Bike Sales\n",
    "- Michael Hendricks\n",
    "- July 20"
   ],
   "cell_type": "markdown",
   "metadata": {}
  },
  {
   "cell_type": "code",
   "execution_count": 135,
   "metadata": {},
   "outputs": [],
   "source": [
    "import pandas as pd\n",
    "import numpy as np"
   ]
  },
  {
   "cell_type": "code",
   "execution_count": 136,
   "metadata": {},
   "outputs": [
    {
     "output_type": "stream",
     "name": "stderr",
     "text": [
      "b'Skipping line 50794: expected 12 fields, saw 20\\n'\n"
     ]
    }
   ],
   "source": [
    "station_df = pd.read_csv('data/station.csv')\n",
    "trip_df = pd.read_csv('data/trip.csv', error_bad_lines=False)\n",
    "weather_df = pd.read_csv('data/weather.csv')"
   ]
  },
  {
   "cell_type": "code",
   "execution_count": 156,
   "metadata": {},
   "outputs": [
    {
     "output_type": "execute_result",
     "data": {
      "text/plain": [
       "tripduration    1178.295675\n",
       "dtype: float64"
      ]
     },
     "metadata": {},
     "execution_count": 156
    }
   ],
   "source": [
    "trip_df[['tripduration']].mean()"
   ]
  },
  {
   "source": [
    "### 1. The average trip duration for a borrowed bicycle is 1178.295675"
   ],
   "cell_type": "markdown",
   "metadata": {}
  },
  {
   "cell_type": "code",
   "execution_count": 157,
   "metadata": {},
   "outputs": [
    {
     "output_type": "execute_result",
     "data": {
      "text/plain": [
       "0    1987.0\n",
       "dtype: float64"
      ]
     },
     "metadata": {},
     "execution_count": 157
    }
   ],
   "source": [
    "trip_df['birthyear'].mode()"
   ]
  },
  {
   "source": [
    "### 2. The most common birth year of a bicycle sharer is 1987, and since that's the year I was born, that makes them 33"
   ],
   "cell_type": "markdown",
   "metadata": {}
  },
  {
   "cell_type": "code",
   "execution_count": 158,
   "metadata": {},
   "outputs": [],
   "source": [
    "#weather_df['Date'] = pd.to_datetime(weather_df['Date'], format='%m/%d/%Y')\n",
    "#weather_df.loc[weather_df['Date'].dt.month == 12][['Date', 'Precipitation_In']].mean()"
   ]
  },
  {
   "cell_type": "code",
   "execution_count": 159,
   "metadata": {},
   "outputs": [],
   "source": [
    "prec_per_day = weather_df[['Date','Precipitation_In']].mean()"
   ]
  },
  {
   "cell_type": "code",
   "execution_count": 160,
   "metadata": {},
   "outputs": [],
   "source": [
    "prec_per_month = prec_per_day * 30"
   ]
  },
  {
   "cell_type": "code",
   "execution_count": 161,
   "metadata": {},
   "outputs": [
    {
     "output_type": "execute_result",
     "data": {
      "text/plain": [
       "Precipitation_In    3.151959\n",
       "dtype: float64"
      ]
     },
     "metadata": {},
     "execution_count": 161
    }
   ],
   "source": [
    "prec_per_month"
   ]
  },
  {
   "source": [
    "### 3. The average precipitation per month is 3.15"
   ],
   "cell_type": "markdown",
   "metadata": {}
  },
  {
   "cell_type": "code",
   "execution_count": 165,
   "metadata": {},
   "outputs": [
    {
     "output_type": "execute_result",
     "data": {
      "text/plain": [
       "current_dockcount    16.517241\n",
       "dtype: float64"
      ]
     },
     "metadata": {},
     "execution_count": 165
    }
   ],
   "source": [
    "#station_df[['name','current_dockcount']]\n",
    "station_df[['current_dockcount']].mean()"
   ]
  },
  {
   "source": [
    "### 4. The average number of bikes at a given station is 16.517241"
   ],
   "cell_type": "markdown",
   "metadata": {}
  },
  {
   "cell_type": "code",
   "execution_count": 166,
   "metadata": {},
   "outputs": [],
   "source": [
    "# notnull() filters out NaN returns\n",
    "modified_stations = station_df[station_df['modification_date'].notnull()][['name','install_dockcount', 'modification_date', 'current_dockcount']].set_index('name')"
   ]
  },
  {
   "cell_type": "code",
   "execution_count": 168,
   "metadata": {},
   "outputs": [
    {
     "output_type": "execute_result",
     "data": {
      "text/plain": [
       "install_dockcount    17.529412\n",
       "dtype: float64"
      ]
     },
     "metadata": {},
     "execution_count": 168
    }
   ],
   "source": [
    "modified_stations[['install_dockcount']].mean()"
   ]
  },
  {
   "cell_type": "code",
   "execution_count": 169,
   "metadata": {},
   "outputs": [
    {
     "output_type": "execute_result",
     "data": {
      "text/plain": [
       "current_dockcount    13.764706\n",
       "dtype: float64"
      ]
     },
     "metadata": {},
     "execution_count": 169
    }
   ],
   "source": [
    "modified_stations[['current_dockcount']].mean()"
   ]
  },
  {
   "source": [
    "### 5. When a bike station is modified it is more likely that it's lose bikes because the average dock count of stations before modifications was higher than the average dock count of those same stations after modifications"
   ],
   "cell_type": "markdown",
   "metadata": {}
  },
  {
   "cell_type": "code",
   "execution_count": 184,
   "metadata": {},
   "outputs": [
    {
     "output_type": "execute_result",
     "data": {
      "text/plain": [
       "Max_Temperature_F    98\n",
       "dtype: int64"
      ]
     },
     "metadata": {},
     "execution_count": 184
    }
   ],
   "source": [
    "weather_df[['Max_Temperature_F']].max()"
   ]
  },
  {
   "source": [
    "### 6. The hottest day on record hit a max of 98 degrees F"
   ],
   "cell_type": "markdown",
   "metadata": {}
  },
  {
   "cell_type": "code",
   "execution_count": 186,
   "metadata": {},
   "outputs": [
    {
     "output_type": "execute_result",
     "data": {
      "text/plain": [
       "Min_TemperatureF    23\n",
       "dtype: int64"
      ]
     },
     "metadata": {},
     "execution_count": 186
    }
   ],
   "source": [
    "weather_df[['Min_TemperatureF']].min()"
   ]
  },
  {
   "source": [
    "### 7. The coldest day on record got as cold as 23 defrees F"
   ],
   "cell_type": "markdown",
   "metadata": {}
  },
  {
   "cell_type": "code",
   "execution_count": 187,
   "metadata": {},
   "outputs": [
    {
     "output_type": "execute_result",
     "data": {
      "text/plain": [
       "Mean_Visibility_Miles    9.429608\n",
       "dtype: float64"
      ]
     },
     "metadata": {},
     "execution_count": 187
    }
   ],
   "source": [
    "weather_df[['Mean_Visibility_Miles']].mean()"
   ]
  },
  {
   "source": [
    "### 8. The overall avg visibility is 9.42 miles"
   ],
   "cell_type": "markdown",
   "metadata": {}
  }
 ]
}